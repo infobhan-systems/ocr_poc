{
 "cells": [
  {
   "cell_type": "code",
   "execution_count": 1,
   "metadata": {},
   "outputs": [],
   "source": [
    "import pytesseract\n",
    "import PIL"
   ]
  },
  {
   "cell_type": "code",
   "execution_count": 14,
   "metadata": {},
   "outputs": [
    {
     "name": "stdout",
     "output_type": "stream",
     "text": [
      "SCENE FROM “DAN'L DRUCE.”\n",
      "\n",
      "This interesting domestic drama, by Mr. W. 8S. Gilbert,\n",
      "has continued to engage the sympathies of a nightly\n",
      "sufficient audience at the Haymarket Theatre, where it\n",
      "has now been represented more than sixty times. Its\n",
      "subject and character were described by us, in the\n",
      "ordinary report of theatrical novelties, about two months\n",
      "ago. Our readers will probably not need to be reminded\n",
      "that the hero of the story, Dan’l Druce, the blacksmith,\n",
      "is a solitary recluse dwelling on the coast of Norfolk,\n",
      "where his lone cottage is visited by fugitives from party\n",
      "v ngeance during the civil wars of the Commonwealth.\n",
      "Ifis hoard of money is stolen; but a different sort of\n",
      "treasure, a helpless female infant; is left by some mys-\n",
      "terious agency, and may be accepted, as in George\n",
      "Eliot’s tale of ‘Silas Marner,” for a Divine gift to the\n",
      "sad-hearted misanthrope, far better than riches. In\n",
      "this spirit, at least, he is content to receive the precious\n",
      "human charge; and so to those who would remove it\n",
      "from his home, Dan’l Druce here makes answer with\n",
      "the solemn exclamation, “Touch not the Lord’s gift!”\n",
      "This character.is well acted by Mr. Hermann Vezin.\n",
      "\n"
     ]
    }
   ],
   "source": [
    "text = pytesseract.image_to_string(PIL.Image.open(\"./sample_text.png\"))\n",
    "print(text)"
   ]
  },
  {
   "cell_type": "code",
   "execution_count": null,
   "metadata": {},
   "outputs": [],
   "source": []
  }
 ],
 "metadata": {
  "kernelspec": {
   "display_name": "base",
   "language": "python",
   "name": "python3"
  },
  "language_info": {
   "codemirror_mode": {
    "name": "ipython",
    "version": 3
   },
   "file_extension": ".py",
   "mimetype": "text/x-python",
   "name": "python",
   "nbconvert_exporter": "python",
   "pygments_lexer": "ipython3",
   "version": "3.9.16"
  },
  "orig_nbformat": 4
 },
 "nbformat": 4,
 "nbformat_minor": 2
}
